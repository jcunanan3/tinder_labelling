{
 "cells": [
  {
   "cell_type": "code",
   "execution_count": 1,
   "metadata": {
    "collapsed": true
   },
   "outputs": [],
   "source": [
    "import pandas as pd\n",
    "from PIL import Image\n",
    "from IPython.display import Image, display,clear_output"
   ]
  },
  {
   "cell_type": "code",
   "execution_count": null,
   "metadata": {
    "collapsed": false
   },
   "outputs": [],
   "source": [
    "path='/Users/joaquincunanan/Downloads/via_region_data.csv'\n",
    "df=pd.read_csv(path)\n",
    "df.head()"
   ]
  },
  {
   "cell_type": "code",
   "execution_count": null,
   "metadata": {
    "collapsed": false
   },
   "outputs": [],
   "source": [
    "df.iloc[:,0:3]"
   ]
  },
  {
   "cell_type": "code",
   "execution_count": null,
   "metadata": {
    "collapsed": false
   },
   "outputs": [],
   "source": [
    "df2=df[['#filename','file_attributes']]\n",
    "df2"
   ]
  },
  {
   "cell_type": "code",
   "execution_count": null,
   "metadata": {
    "collapsed": false
   },
   "outputs": [],
   "source": [
    "import numpy as np\n",
    "df2['label']=np.where([df['file_attributes']=='{\"like\":\"yes\"}' or df['file_attributes']=='{\"like\":\"1\"}',1,0 ])\n",
    "#df['elderly'] = np.where(df['age']>=50, 'yes', 'no')"
   ]
  },
  {
   "cell_type": "code",
   "execution_count": null,
   "metadata": {
    "collapsed": false
   },
   "outputs": [],
   "source": [
    "path='/Users/joaquincunanan/Downloads/via_region_data_1.csv'\n",
    "df_1=pd.read_csv(path)\n",
    "df_1.head()"
   ]
  },
  {
   "cell_type": "code",
   "execution_count": null,
   "metadata": {
    "collapsed": false
   },
   "outputs": [],
   "source": [
    "df_1.shape"
   ]
  },
  {
   "cell_type": "code",
   "execution_count": null,
   "metadata": {
    "collapsed": false
   },
   "outputs": [],
   "source": [
    "df_1"
   ]
  },
  {
   "cell_type": "code",
   "execution_count": null,
   "metadata": {
    "collapsed": false
   },
   "outputs": [],
   "source": [
    "path='/Users/joaquincunanan/Dropbox (winners)/tinder_labelling/tinder_labels.csv'\n",
    "df=pd.read_csv(path)\n",
    "df.head()"
   ]
  },
  {
   "cell_type": "code",
   "execution_count": 2,
   "metadata": {
    "collapsed": false
   },
   "outputs": [
    {
     "data": {
      "text/html": [
       "<div>\n",
       "<style>\n",
       "    .dataframe thead tr:only-child th {\n",
       "        text-align: right;\n",
       "    }\n",
       "\n",
       "    .dataframe thead th {\n",
       "        text-align: left;\n",
       "    }\n",
       "\n",
       "    .dataframe tbody tr th {\n",
       "        vertical-align: top;\n",
       "    }\n",
       "</style>\n",
       "<table border=\"1\" class=\"dataframe\">\n",
       "  <thead>\n",
       "    <tr style=\"text-align: right;\">\n",
       "      <th></th>\n",
       "      <th>base64_img_data</th>\n",
       "      <th>file_attributes</th>\n",
       "      <th>filename</th>\n",
       "      <th>fileref</th>\n",
       "      <th>regions</th>\n",
       "      <th>size</th>\n",
       "    </tr>\n",
       "  </thead>\n",
       "  <tbody>\n",
       "    <tr>\n",
       "      <th>510b25e0281dbc430d00037e_1993.jpg62565</th>\n",
       "      <td></td>\n",
       "      <td>{}</td>\n",
       "      <td>510b25e0281dbc430d00037e_1993.jpg</td>\n",
       "      <td></td>\n",
       "      <td>{}</td>\n",
       "      <td>62565</td>\n",
       "    </tr>\n",
       "    <tr>\n",
       "      <th>510b25e0281dbc430d00037e_1994.jpg42991</th>\n",
       "      <td></td>\n",
       "      <td>{}</td>\n",
       "      <td>510b25e0281dbc430d00037e_1994.jpg</td>\n",
       "      <td></td>\n",
       "      <td>{}</td>\n",
       "      <td>42991</td>\n",
       "    </tr>\n",
       "    <tr>\n",
       "      <th>510b25e0281dbc430d00037e_1995.jpg74946</th>\n",
       "      <td></td>\n",
       "      <td>{}</td>\n",
       "      <td>510b25e0281dbc430d00037e_1995.jpg</td>\n",
       "      <td></td>\n",
       "      <td>{}</td>\n",
       "      <td>74946</td>\n",
       "    </tr>\n",
       "    <tr>\n",
       "      <th>510b25e0281dbc430d00037e_1996.jpg44617</th>\n",
       "      <td></td>\n",
       "      <td>{}</td>\n",
       "      <td>510b25e0281dbc430d00037e_1996.jpg</td>\n",
       "      <td></td>\n",
       "      <td>{}</td>\n",
       "      <td>44617</td>\n",
       "    </tr>\n",
       "    <tr>\n",
       "      <th>510b25e0281dbc430d00037e_1997.jpg48041</th>\n",
       "      <td></td>\n",
       "      <td>{}</td>\n",
       "      <td>510b25e0281dbc430d00037e_1997.jpg</td>\n",
       "      <td></td>\n",
       "      <td>{}</td>\n",
       "      <td>48041</td>\n",
       "    </tr>\n",
       "  </tbody>\n",
       "</table>\n",
       "</div>"
      ],
      "text/plain": [
       "                                       base64_img_data file_attributes  \\\n",
       "510b25e0281dbc430d00037e_1993.jpg62565                              {}   \n",
       "510b25e0281dbc430d00037e_1994.jpg42991                              {}   \n",
       "510b25e0281dbc430d00037e_1995.jpg74946                              {}   \n",
       "510b25e0281dbc430d00037e_1996.jpg44617                              {}   \n",
       "510b25e0281dbc430d00037e_1997.jpg48041                              {}   \n",
       "\n",
       "                                                                 filename  \\\n",
       "510b25e0281dbc430d00037e_1993.jpg62565  510b25e0281dbc430d00037e_1993.jpg   \n",
       "510b25e0281dbc430d00037e_1994.jpg42991  510b25e0281dbc430d00037e_1994.jpg   \n",
       "510b25e0281dbc430d00037e_1995.jpg74946  510b25e0281dbc430d00037e_1995.jpg   \n",
       "510b25e0281dbc430d00037e_1996.jpg44617  510b25e0281dbc430d00037e_1996.jpg   \n",
       "510b25e0281dbc430d00037e_1997.jpg48041  510b25e0281dbc430d00037e_1997.jpg   \n",
       "\n",
       "                                       fileref regions   size  \n",
       "510b25e0281dbc430d00037e_1993.jpg62565              {}  62565  \n",
       "510b25e0281dbc430d00037e_1994.jpg42991              {}  42991  \n",
       "510b25e0281dbc430d00037e_1995.jpg74946              {}  74946  \n",
       "510b25e0281dbc430d00037e_1996.jpg44617              {}  44617  \n",
       "510b25e0281dbc430d00037e_1997.jpg48041              {}  48041  "
      ]
     },
     "execution_count": 2,
     "metadata": {},
     "output_type": "execute_result"
    }
   ],
   "source": [
    "path='/Users/joaquincunanan/Downloads/via_data_27JUL.json'\n",
    "df4=pd.read_json(path)\n",
    "df5=df4.T\n",
    "df6=df5.loc[df5['file_attributes'].astype(str)=='{}']\n",
    "df6.head()"
   ]
  },
  {
   "cell_type": "code",
   "execution_count": null,
   "metadata": {
    "collapsed": false
   },
   "outputs": [],
   "source": []
  },
  {
   "cell_type": "code",
   "execution_count": 22,
   "metadata": {
    "collapsed": false
   },
   "outputs": [
    {
     "name": "stdout",
     "output_type": "stream",
     "text": [
      "4280\n",
      "597095cc36a7be556db0d518_6660.jpg\n"
     ]
    },
    {
     "data": {
      "image/jpeg": "[encoded data removed]",
      "text/plain": [
       "<IPython.core.display.Image object>"
      ]
     },
     "metadata": {},
     "output_type": "display_data"
    },
    {
     "ename": "KeyboardInterrupt",
     "evalue": "",
     "output_type": "error",
     "traceback": [
      "\u001b[0;31m---------------------------------------------------------------------------\u001b[0m",
      "\u001b[0;31mKeyboardInterrupt\u001b[0m                         Traceback (most recent call last)",
      "\u001b[0;32m<ipython-input-22-2304888d388c>\u001b[0m in \u001b[0;36m<module>\u001b[0;34m()\u001b[0m\n\u001b[1;32m     15\u001b[0m         \u001b[0;31m#photo2=photo.thumbnail((125,125))\u001b[0m\u001b[0;34m\u001b[0m\u001b[0;34m\u001b[0m\u001b[0m\n\u001b[1;32m     16\u001b[0m         \u001b[0;31m#display(photo2)\u001b[0m\u001b[0;34m\u001b[0m\u001b[0;34m\u001b[0m\u001b[0m\n\u001b[0;32m---> 17\u001b[0;31m         \u001b[0mlabel\u001b[0m\u001b[0;34m=\u001b[0m\u001b[0mraw_input\u001b[0m\u001b[0;34m(\u001b[0m\u001b[0;34m'like? (0/1)'\u001b[0m\u001b[0;34m)\u001b[0m\u001b[0;34m\u001b[0m\u001b[0m\n\u001b[0m\u001b[1;32m     18\u001b[0m         \u001b[0mclear_output\u001b[0m\u001b[0;34m(\u001b[0m\u001b[0;34m)\u001b[0m\u001b[0;34m\u001b[0m\u001b[0m\n\u001b[1;32m     19\u001b[0m         \u001b[0mdf6\u001b[0m\u001b[0;34m.\u001b[0m\u001b[0miloc\u001b[0m\u001b[0;34m[\u001b[0m\u001b[0mk\u001b[0m\u001b[0;34m]\u001b[0m\u001b[0;34m.\u001b[0m\u001b[0mfile_attributes\u001b[0m\u001b[0;34m=\u001b[0m\u001b[0mlabel\u001b[0m\u001b[0;34m\u001b[0m\u001b[0m\n",
      "\u001b[0;32m/anaconda/envs/dsi2/lib/python2.7/site-packages/ipykernel/kernelbase.pyc\u001b[0m in \u001b[0;36mraw_input\u001b[0;34m(self, prompt)\u001b[0m\n\u001b[1;32m    688\u001b[0m             \u001b[0mself\u001b[0m\u001b[0;34m.\u001b[0m\u001b[0m_parent_ident\u001b[0m\u001b[0;34m,\u001b[0m\u001b[0;34m\u001b[0m\u001b[0m\n\u001b[1;32m    689\u001b[0m             \u001b[0mself\u001b[0m\u001b[0;34m.\u001b[0m\u001b[0m_parent_header\u001b[0m\u001b[0;34m,\u001b[0m\u001b[0;34m\u001b[0m\u001b[0m\n\u001b[0;32m--> 690\u001b[0;31m             \u001b[0mpassword\u001b[0m\u001b[0;34m=\u001b[0m\u001b[0mFalse\u001b[0m\u001b[0;34m,\u001b[0m\u001b[0;34m\u001b[0m\u001b[0m\n\u001b[0m\u001b[1;32m    691\u001b[0m         )\n\u001b[1;32m    692\u001b[0m \u001b[0;34m\u001b[0m\u001b[0m\n",
      "\u001b[0;32m/anaconda/envs/dsi2/lib/python2.7/site-packages/ipykernel/kernelbase.pyc\u001b[0m in \u001b[0;36m_input_request\u001b[0;34m(self, prompt, ident, parent, password)\u001b[0m\n\u001b[1;32m    718\u001b[0m             \u001b[0;32mexcept\u001b[0m \u001b[0mKeyboardInterrupt\u001b[0m\u001b[0;34m:\u001b[0m\u001b[0;34m\u001b[0m\u001b[0m\n\u001b[1;32m    719\u001b[0m                 \u001b[0;31m# re-raise KeyboardInterrupt, to truncate traceback\u001b[0m\u001b[0;34m\u001b[0m\u001b[0;34m\u001b[0m\u001b[0m\n\u001b[0;32m--> 720\u001b[0;31m                 \u001b[0;32mraise\u001b[0m \u001b[0mKeyboardInterrupt\u001b[0m\u001b[0;34m\u001b[0m\u001b[0m\n\u001b[0m\u001b[1;32m    721\u001b[0m             \u001b[0;32melse\u001b[0m\u001b[0;34m:\u001b[0m\u001b[0;34m\u001b[0m\u001b[0m\n\u001b[1;32m    722\u001b[0m                 \u001b[0;32mbreak\u001b[0m\u001b[0;34m\u001b[0m\u001b[0m\n",
      "\u001b[0;31mKeyboardInterrupt\u001b[0m: "
     ]
    }
   ],
   "source": [
    "r=range(len(df6))\n",
    "#r=range(200)\n",
    "for k in r:\n",
    "    \n",
    "    x=df6.iloc[k]\n",
    "    \n",
    "    \n",
    "    #if len(x[1].astype(str))==0:\n",
    "    if x[1]=={}:\n",
    "        print(k)\n",
    "        print(x[2])\n",
    "        path='/Users/joaquincunanan/Dropbox (winners)/tinder_labelling/images/'+x[2]\n",
    "        photo=Image(filename=path)\n",
    "        display(photo)\n",
    "        #photo2=photo.thumbnail((125,125))\n",
    "        #display(photo2)\n",
    "        label=raw_input('like? (0/1)')\n",
    "        clear_output()\n",
    "        df6.iloc[k].file_attributes=label\n",
    "        df6.to_csv('tinder_labels.csv')\n",
    "\n"
   ]
  },
  {
   "cell_type": "code",
   "execution_count": 23,
   "metadata": {
    "collapsed": false
   },
   "outputs": [
    {
     "data": {
      "text/html": [
       "<div>\n",
       "<style>\n",
       "    .dataframe thead tr:only-child th {\n",
       "        text-align: right;\n",
       "    }\n",
       "\n",
       "    .dataframe thead th {\n",
       "        text-align: left;\n",
       "    }\n",
       "\n",
       "    .dataframe tbody tr th {\n",
       "        vertical-align: top;\n",
       "    }\n",
       "</style>\n",
       "<table border=\"1\" class=\"dataframe\">\n",
       "  <thead>\n",
       "    <tr style=\"text-align: right;\">\n",
       "      <th></th>\n",
       "      <th>base64_img_data</th>\n",
       "      <th>file_attributes</th>\n",
       "      <th>filename</th>\n",
       "      <th>fileref</th>\n",
       "      <th>regions</th>\n",
       "      <th>size</th>\n",
       "    </tr>\n",
       "  </thead>\n",
       "  <tbody>\n",
       "    <tr>\n",
       "      <th>50d6bcd38834a99002001846_4370.jpg95571</th>\n",
       "      <td></td>\n",
       "      <td>{u'like': u'0'}</td>\n",
       "      <td>50d6bcd38834a99002001846_4370.jpg</td>\n",
       "      <td></td>\n",
       "      <td>{}</td>\n",
       "      <td>95571</td>\n",
       "    </tr>\n",
       "    <tr>\n",
       "      <th>50d6bcd38834a99002001846_4371.jpg32504</th>\n",
       "      <td></td>\n",
       "      <td>{u'like': u'0'}</td>\n",
       "      <td>50d6bcd38834a99002001846_4371.jpg</td>\n",
       "      <td></td>\n",
       "      <td>{}</td>\n",
       "      <td>32504</td>\n",
       "    </tr>\n",
       "    <tr>\n",
       "      <th>50d6bcd38834a99002001846_4372.jpg40873</th>\n",
       "      <td></td>\n",
       "      <td>{u'like': u'0'}</td>\n",
       "      <td>50d6bcd38834a99002001846_4372.jpg</td>\n",
       "      <td></td>\n",
       "      <td>{}</td>\n",
       "      <td>40873</td>\n",
       "    </tr>\n",
       "    <tr>\n",
       "      <th>50d6bcd38834a99002001846_4373.jpg29896</th>\n",
       "      <td></td>\n",
       "      <td>{u'like': u'0'}</td>\n",
       "      <td>50d6bcd38834a99002001846_4373.jpg</td>\n",
       "      <td></td>\n",
       "      <td>{}</td>\n",
       "      <td>29896</td>\n",
       "    </tr>\n",
       "    <tr>\n",
       "      <th>50d6bcd38834a99002001846_4374.jpg60595</th>\n",
       "      <td></td>\n",
       "      <td>{u'like': u'1'}</td>\n",
       "      <td>50d6bcd38834a99002001846_4374.jpg</td>\n",
       "      <td></td>\n",
       "      <td>{}</td>\n",
       "      <td>60595</td>\n",
       "    </tr>\n",
       "  </tbody>\n",
       "</table>\n",
       "</div>"
      ],
      "text/plain": [
       "                                       base64_img_data  file_attributes  \\\n",
       "50d6bcd38834a99002001846_4370.jpg95571                  {u'like': u'0'}   \n",
       "50d6bcd38834a99002001846_4371.jpg32504                  {u'like': u'0'}   \n",
       "50d6bcd38834a99002001846_4372.jpg40873                  {u'like': u'0'}   \n",
       "50d6bcd38834a99002001846_4373.jpg29896                  {u'like': u'0'}   \n",
       "50d6bcd38834a99002001846_4374.jpg60595                  {u'like': u'1'}   \n",
       "\n",
       "                                                                 filename  \\\n",
       "50d6bcd38834a99002001846_4370.jpg95571  50d6bcd38834a99002001846_4370.jpg   \n",
       "50d6bcd38834a99002001846_4371.jpg32504  50d6bcd38834a99002001846_4371.jpg   \n",
       "50d6bcd38834a99002001846_4372.jpg40873  50d6bcd38834a99002001846_4372.jpg   \n",
       "50d6bcd38834a99002001846_4373.jpg29896  50d6bcd38834a99002001846_4373.jpg   \n",
       "50d6bcd38834a99002001846_4374.jpg60595  50d6bcd38834a99002001846_4374.jpg   \n",
       "\n",
       "                                       fileref regions   size  \n",
       "50d6bcd38834a99002001846_4370.jpg95571              {}  95571  \n",
       "50d6bcd38834a99002001846_4371.jpg32504              {}  32504  \n",
       "50d6bcd38834a99002001846_4372.jpg40873              {}  40873  \n",
       "50d6bcd38834a99002001846_4373.jpg29896              {}  29896  \n",
       "50d6bcd38834a99002001846_4374.jpg60595              {}  60595  "
      ]
     },
     "execution_count": 23,
     "metadata": {},
     "output_type": "execute_result"
    }
   ],
   "source": [
    "df5.head()\n"
   ]
  },
  {
   "cell_type": "code",
   "execution_count": 24,
   "metadata": {
    "collapsed": false
   },
   "outputs": [
    {
     "data": {
      "text/html": [
       "<div>\n",
       "<style>\n",
       "    .dataframe thead tr:only-child th {\n",
       "        text-align: right;\n",
       "    }\n",
       "\n",
       "    .dataframe thead th {\n",
       "        text-align: left;\n",
       "    }\n",
       "\n",
       "    .dataframe tbody tr th {\n",
       "        vertical-align: top;\n",
       "    }\n",
       "</style>\n",
       "<table border=\"1\" class=\"dataframe\">\n",
       "  <thead>\n",
       "    <tr style=\"text-align: right;\">\n",
       "      <th></th>\n",
       "      <th>base64_img_data</th>\n",
       "      <th>file_attributes</th>\n",
       "      <th>filename</th>\n",
       "      <th>fileref</th>\n",
       "      <th>regions</th>\n",
       "      <th>size</th>\n",
       "      <th>attributes2</th>\n",
       "    </tr>\n",
       "  </thead>\n",
       "  <tbody>\n",
       "    <tr>\n",
       "      <th>50d6bcd38834a99002001846_4370.jpg95571</th>\n",
       "      <td></td>\n",
       "      <td>{u'like': u'0'}</td>\n",
       "      <td>50d6bcd38834a99002001846_4370.jpg</td>\n",
       "      <td></td>\n",
       "      <td>{}</td>\n",
       "      <td>95571</td>\n",
       "      <td>{u'like': u'0'}</td>\n",
       "    </tr>\n",
       "    <tr>\n",
       "      <th>50d6bcd38834a99002001846_4371.jpg32504</th>\n",
       "      <td></td>\n",
       "      <td>{u'like': u'0'}</td>\n",
       "      <td>50d6bcd38834a99002001846_4371.jpg</td>\n",
       "      <td></td>\n",
       "      <td>{}</td>\n",
       "      <td>32504</td>\n",
       "      <td>{u'like': u'0'}</td>\n",
       "    </tr>\n",
       "    <tr>\n",
       "      <th>50d6bcd38834a99002001846_4372.jpg40873</th>\n",
       "      <td></td>\n",
       "      <td>{u'like': u'0'}</td>\n",
       "      <td>50d6bcd38834a99002001846_4372.jpg</td>\n",
       "      <td></td>\n",
       "      <td>{}</td>\n",
       "      <td>40873</td>\n",
       "      <td>{u'like': u'0'}</td>\n",
       "    </tr>\n",
       "    <tr>\n",
       "      <th>50d6bcd38834a99002001846_4373.jpg29896</th>\n",
       "      <td></td>\n",
       "      <td>{u'like': u'0'}</td>\n",
       "      <td>50d6bcd38834a99002001846_4373.jpg</td>\n",
       "      <td></td>\n",
       "      <td>{}</td>\n",
       "      <td>29896</td>\n",
       "      <td>{u'like': u'0'}</td>\n",
       "    </tr>\n",
       "    <tr>\n",
       "      <th>50d6bcd38834a99002001846_4374.jpg60595</th>\n",
       "      <td></td>\n",
       "      <td>{u'like': u'1'}</td>\n",
       "      <td>50d6bcd38834a99002001846_4374.jpg</td>\n",
       "      <td></td>\n",
       "      <td>{}</td>\n",
       "      <td>60595</td>\n",
       "      <td>{u'like': u'1'}</td>\n",
       "    </tr>\n",
       "  </tbody>\n",
       "</table>\n",
       "</div>"
      ],
      "text/plain": [
       "                                       base64_img_data  file_attributes  \\\n",
       "50d6bcd38834a99002001846_4370.jpg95571                  {u'like': u'0'}   \n",
       "50d6bcd38834a99002001846_4371.jpg32504                  {u'like': u'0'}   \n",
       "50d6bcd38834a99002001846_4372.jpg40873                  {u'like': u'0'}   \n",
       "50d6bcd38834a99002001846_4373.jpg29896                  {u'like': u'0'}   \n",
       "50d6bcd38834a99002001846_4374.jpg60595                  {u'like': u'1'}   \n",
       "\n",
       "                                                                 filename  \\\n",
       "50d6bcd38834a99002001846_4370.jpg95571  50d6bcd38834a99002001846_4370.jpg   \n",
       "50d6bcd38834a99002001846_4371.jpg32504  50d6bcd38834a99002001846_4371.jpg   \n",
       "50d6bcd38834a99002001846_4372.jpg40873  50d6bcd38834a99002001846_4372.jpg   \n",
       "50d6bcd38834a99002001846_4373.jpg29896  50d6bcd38834a99002001846_4373.jpg   \n",
       "50d6bcd38834a99002001846_4374.jpg60595  50d6bcd38834a99002001846_4374.jpg   \n",
       "\n",
       "                                       fileref regions   size      attributes2  \n",
       "50d6bcd38834a99002001846_4370.jpg95571              {}  95571  {u'like': u'0'}  \n",
       "50d6bcd38834a99002001846_4371.jpg32504              {}  32504  {u'like': u'0'}  \n",
       "50d6bcd38834a99002001846_4372.jpg40873              {}  40873  {u'like': u'0'}  \n",
       "50d6bcd38834a99002001846_4373.jpg29896              {}  29896  {u'like': u'0'}  \n",
       "50d6bcd38834a99002001846_4374.jpg60595              {}  60595  {u'like': u'1'}  "
      ]
     },
     "execution_count": 24,
     "metadata": {},
     "output_type": "execute_result"
    }
   ],
   "source": [
    "df5b=df5\n",
    "df5b['attributes2']=df5b.file_attributes.astype(str)\n",
    "df5b.head()"
   ]
  },
  {
   "cell_type": "code",
   "execution_count": 27,
   "metadata": {
    "collapsed": false
   },
   "outputs": [
    {
     "data": {
      "text/html": [
       "<div>\n",
       "<style>\n",
       "    .dataframe thead tr:only-child th {\n",
       "        text-align: right;\n",
       "    }\n",
       "\n",
       "    .dataframe thead th {\n",
       "        text-align: left;\n",
       "    }\n",
       "\n",
       "    .dataframe tbody tr th {\n",
       "        vertical-align: top;\n",
       "    }\n",
       "</style>\n",
       "<table border=\"1\" class=\"dataframe\">\n",
       "  <thead>\n",
       "    <tr style=\"text-align: right;\">\n",
       "      <th></th>\n",
       "      <th>base64_img_data</th>\n",
       "      <th>file_attributes</th>\n",
       "      <th>filename</th>\n",
       "      <th>fileref</th>\n",
       "      <th>regions</th>\n",
       "      <th>size</th>\n",
       "      <th>attributes2</th>\n",
       "    </tr>\n",
       "  </thead>\n",
       "  <tbody>\n",
       "    <tr>\n",
       "      <th>50d6bcd38834a99002001846_4370.jpg95571</th>\n",
       "      <td></td>\n",
       "      <td>{u'like': u'0'}</td>\n",
       "      <td>50d6bcd38834a99002001846_4370.jpg</td>\n",
       "      <td></td>\n",
       "      <td>{}</td>\n",
       "      <td>95571</td>\n",
       "      <td>0</td>\n",
       "    </tr>\n",
       "    <tr>\n",
       "      <th>50d6bcd38834a99002001846_4371.jpg32504</th>\n",
       "      <td></td>\n",
       "      <td>{u'like': u'0'}</td>\n",
       "      <td>50d6bcd38834a99002001846_4371.jpg</td>\n",
       "      <td></td>\n",
       "      <td>{}</td>\n",
       "      <td>32504</td>\n",
       "      <td>0</td>\n",
       "    </tr>\n",
       "    <tr>\n",
       "      <th>50d6bcd38834a99002001846_4372.jpg40873</th>\n",
       "      <td></td>\n",
       "      <td>{u'like': u'0'}</td>\n",
       "      <td>50d6bcd38834a99002001846_4372.jpg</td>\n",
       "      <td></td>\n",
       "      <td>{}</td>\n",
       "      <td>40873</td>\n",
       "      <td>0</td>\n",
       "    </tr>\n",
       "    <tr>\n",
       "      <th>50d6bcd38834a99002001846_4373.jpg29896</th>\n",
       "      <td></td>\n",
       "      <td>{u'like': u'0'}</td>\n",
       "      <td>50d6bcd38834a99002001846_4373.jpg</td>\n",
       "      <td></td>\n",
       "      <td>{}</td>\n",
       "      <td>29896</td>\n",
       "      <td>0</td>\n",
       "    </tr>\n",
       "    <tr>\n",
       "      <th>50d6bcd38834a99002001846_4374.jpg60595</th>\n",
       "      <td></td>\n",
       "      <td>{u'like': u'1'}</td>\n",
       "      <td>50d6bcd38834a99002001846_4374.jpg</td>\n",
       "      <td></td>\n",
       "      <td>{}</td>\n",
       "      <td>60595</td>\n",
       "      <td>{u'like': u'1'}</td>\n",
       "    </tr>\n",
       "  </tbody>\n",
       "</table>\n",
       "</div>"
      ],
      "text/plain": [
       "                                       base64_img_data  file_attributes  \\\n",
       "50d6bcd38834a99002001846_4370.jpg95571                  {u'like': u'0'}   \n",
       "50d6bcd38834a99002001846_4371.jpg32504                  {u'like': u'0'}   \n",
       "50d6bcd38834a99002001846_4372.jpg40873                  {u'like': u'0'}   \n",
       "50d6bcd38834a99002001846_4373.jpg29896                  {u'like': u'0'}   \n",
       "50d6bcd38834a99002001846_4374.jpg60595                  {u'like': u'1'}   \n",
       "\n",
       "                                                                 filename  \\\n",
       "50d6bcd38834a99002001846_4370.jpg95571  50d6bcd38834a99002001846_4370.jpg   \n",
       "50d6bcd38834a99002001846_4371.jpg32504  50d6bcd38834a99002001846_4371.jpg   \n",
       "50d6bcd38834a99002001846_4372.jpg40873  50d6bcd38834a99002001846_4372.jpg   \n",
       "50d6bcd38834a99002001846_4373.jpg29896  50d6bcd38834a99002001846_4373.jpg   \n",
       "50d6bcd38834a99002001846_4374.jpg60595  50d6bcd38834a99002001846_4374.jpg   \n",
       "\n",
       "                                       fileref regions   size      attributes2  \n",
       "50d6bcd38834a99002001846_4370.jpg95571              {}  95571                0  \n",
       "50d6bcd38834a99002001846_4371.jpg32504              {}  32504                0  \n",
       "50d6bcd38834a99002001846_4372.jpg40873              {}  40873                0  \n",
       "50d6bcd38834a99002001846_4373.jpg29896              {}  29896                0  \n",
       "50d6bcd38834a99002001846_4374.jpg60595              {}  60595  {u'like': u'1'}  "
      ]
     },
     "execution_count": 27,
     "metadata": {},
     "output_type": "execute_result"
    }
   ],
   "source": [
    "df5b['attributes2'].replace(to_replace=\"{u'like': u'0'}\",value=0,inplace=True)\n",
    "df5b.head()"
   ]
  },
  {
   "cell_type": "code",
   "execution_count": 28,
   "metadata": {
    "collapsed": false
   },
   "outputs": [
    {
     "data": {
      "text/html": [
       "<div>\n",
       "<style>\n",
       "    .dataframe thead tr:only-child th {\n",
       "        text-align: right;\n",
       "    }\n",
       "\n",
       "    .dataframe thead th {\n",
       "        text-align: left;\n",
       "    }\n",
       "\n",
       "    .dataframe tbody tr th {\n",
       "        vertical-align: top;\n",
       "    }\n",
       "</style>\n",
       "<table border=\"1\" class=\"dataframe\">\n",
       "  <thead>\n",
       "    <tr style=\"text-align: right;\">\n",
       "      <th></th>\n",
       "      <th>base64_img_data</th>\n",
       "      <th>file_attributes</th>\n",
       "      <th>filename</th>\n",
       "      <th>fileref</th>\n",
       "      <th>regions</th>\n",
       "      <th>size</th>\n",
       "      <th>attributes2</th>\n",
       "    </tr>\n",
       "  </thead>\n",
       "  <tbody>\n",
       "    <tr>\n",
       "      <th>50d6bcd38834a99002001846_4370.jpg95571</th>\n",
       "      <td></td>\n",
       "      <td>{u'like': u'0'}</td>\n",
       "      <td>50d6bcd38834a99002001846_4370.jpg</td>\n",
       "      <td></td>\n",
       "      <td>{}</td>\n",
       "      <td>95571</td>\n",
       "      <td>0</td>\n",
       "    </tr>\n",
       "    <tr>\n",
       "      <th>50d6bcd38834a99002001846_4371.jpg32504</th>\n",
       "      <td></td>\n",
       "      <td>{u'like': u'0'}</td>\n",
       "      <td>50d6bcd38834a99002001846_4371.jpg</td>\n",
       "      <td></td>\n",
       "      <td>{}</td>\n",
       "      <td>32504</td>\n",
       "      <td>0</td>\n",
       "    </tr>\n",
       "    <tr>\n",
       "      <th>50d6bcd38834a99002001846_4372.jpg40873</th>\n",
       "      <td></td>\n",
       "      <td>{u'like': u'0'}</td>\n",
       "      <td>50d6bcd38834a99002001846_4372.jpg</td>\n",
       "      <td></td>\n",
       "      <td>{}</td>\n",
       "      <td>40873</td>\n",
       "      <td>0</td>\n",
       "    </tr>\n",
       "    <tr>\n",
       "      <th>50d6bcd38834a99002001846_4373.jpg29896</th>\n",
       "      <td></td>\n",
       "      <td>{u'like': u'0'}</td>\n",
       "      <td>50d6bcd38834a99002001846_4373.jpg</td>\n",
       "      <td></td>\n",
       "      <td>{}</td>\n",
       "      <td>29896</td>\n",
       "      <td>0</td>\n",
       "    </tr>\n",
       "    <tr>\n",
       "      <th>50d6bcd38834a99002001846_4374.jpg60595</th>\n",
       "      <td></td>\n",
       "      <td>{u'like': u'1'}</td>\n",
       "      <td>50d6bcd38834a99002001846_4374.jpg</td>\n",
       "      <td></td>\n",
       "      <td>{}</td>\n",
       "      <td>60595</td>\n",
       "      <td>1</td>\n",
       "    </tr>\n",
       "  </tbody>\n",
       "</table>\n",
       "</div>"
      ],
      "text/plain": [
       "                                       base64_img_data  file_attributes  \\\n",
       "50d6bcd38834a99002001846_4370.jpg95571                  {u'like': u'0'}   \n",
       "50d6bcd38834a99002001846_4371.jpg32504                  {u'like': u'0'}   \n",
       "50d6bcd38834a99002001846_4372.jpg40873                  {u'like': u'0'}   \n",
       "50d6bcd38834a99002001846_4373.jpg29896                  {u'like': u'0'}   \n",
       "50d6bcd38834a99002001846_4374.jpg60595                  {u'like': u'1'}   \n",
       "\n",
       "                                                                 filename  \\\n",
       "50d6bcd38834a99002001846_4370.jpg95571  50d6bcd38834a99002001846_4370.jpg   \n",
       "50d6bcd38834a99002001846_4371.jpg32504  50d6bcd38834a99002001846_4371.jpg   \n",
       "50d6bcd38834a99002001846_4372.jpg40873  50d6bcd38834a99002001846_4372.jpg   \n",
       "50d6bcd38834a99002001846_4373.jpg29896  50d6bcd38834a99002001846_4373.jpg   \n",
       "50d6bcd38834a99002001846_4374.jpg60595  50d6bcd38834a99002001846_4374.jpg   \n",
       "\n",
       "                                       fileref regions   size attributes2  \n",
       "50d6bcd38834a99002001846_4370.jpg95571              {}  95571           0  \n",
       "50d6bcd38834a99002001846_4371.jpg32504              {}  32504           0  \n",
       "50d6bcd38834a99002001846_4372.jpg40873              {}  40873           0  \n",
       "50d6bcd38834a99002001846_4373.jpg29896              {}  29896           0  \n",
       "50d6bcd38834a99002001846_4374.jpg60595              {}  60595           1  "
      ]
     },
     "execution_count": 28,
     "metadata": {},
     "output_type": "execute_result"
    }
   ],
   "source": [
    "df5b['attributes2'].replace(to_replace=\"{u'like': u'1'}\",value=1,inplace=True)\n",
    "df5b.head()"
   ]
  },
  {
   "cell_type": "code",
   "execution_count": 32,
   "metadata": {
    "collapsed": false
   },
   "outputs": [
    {
     "data": {
      "text/html": [
       "<div>\n",
       "<style>\n",
       "    .dataframe thead tr:only-child th {\n",
       "        text-align: right;\n",
       "    }\n",
       "\n",
       "    .dataframe thead th {\n",
       "        text-align: left;\n",
       "    }\n",
       "\n",
       "    .dataframe tbody tr th {\n",
       "        vertical-align: top;\n",
       "    }\n",
       "</style>\n",
       "<table border=\"1\" class=\"dataframe\">\n",
       "  <thead>\n",
       "    <tr style=\"text-align: right;\">\n",
       "      <th></th>\n",
       "      <th>filename</th>\n",
       "      <th>size</th>\n",
       "      <th>attributes2</th>\n",
       "    </tr>\n",
       "  </thead>\n",
       "  <tbody>\n",
       "    <tr>\n",
       "      <th>50d6bcd38834a99002001846_4370.jpg95571</th>\n",
       "      <td>50d6bcd38834a99002001846_4370.jpg</td>\n",
       "      <td>95571</td>\n",
       "      <td>0</td>\n",
       "    </tr>\n",
       "    <tr>\n",
       "      <th>50d6bcd38834a99002001846_4371.jpg32504</th>\n",
       "      <td>50d6bcd38834a99002001846_4371.jpg</td>\n",
       "      <td>32504</td>\n",
       "      <td>0</td>\n",
       "    </tr>\n",
       "    <tr>\n",
       "      <th>50d6bcd38834a99002001846_4372.jpg40873</th>\n",
       "      <td>50d6bcd38834a99002001846_4372.jpg</td>\n",
       "      <td>40873</td>\n",
       "      <td>0</td>\n",
       "    </tr>\n",
       "    <tr>\n",
       "      <th>50d6bcd38834a99002001846_4373.jpg29896</th>\n",
       "      <td>50d6bcd38834a99002001846_4373.jpg</td>\n",
       "      <td>29896</td>\n",
       "      <td>0</td>\n",
       "    </tr>\n",
       "    <tr>\n",
       "      <th>50d6bcd38834a99002001846_4374.jpg60595</th>\n",
       "      <td>50d6bcd38834a99002001846_4374.jpg</td>\n",
       "      <td>60595</td>\n",
       "      <td>1</td>\n",
       "    </tr>\n",
       "  </tbody>\n",
       "</table>\n",
       "</div>"
      ],
      "text/plain": [
       "                                                                 filename  \\\n",
       "50d6bcd38834a99002001846_4370.jpg95571  50d6bcd38834a99002001846_4370.jpg   \n",
       "50d6bcd38834a99002001846_4371.jpg32504  50d6bcd38834a99002001846_4371.jpg   \n",
       "50d6bcd38834a99002001846_4372.jpg40873  50d6bcd38834a99002001846_4372.jpg   \n",
       "50d6bcd38834a99002001846_4373.jpg29896  50d6bcd38834a99002001846_4373.jpg   \n",
       "50d6bcd38834a99002001846_4374.jpg60595  50d6bcd38834a99002001846_4374.jpg   \n",
       "\n",
       "                                         size attributes2  \n",
       "50d6bcd38834a99002001846_4370.jpg95571  95571           0  \n",
       "50d6bcd38834a99002001846_4371.jpg32504  32504           0  \n",
       "50d6bcd38834a99002001846_4372.jpg40873  40873           0  \n",
       "50d6bcd38834a99002001846_4373.jpg29896  29896           0  \n",
       "50d6bcd38834a99002001846_4374.jpg60595  60595           1  "
      ]
     },
     "execution_count": 32,
     "metadata": {},
     "output_type": "execute_result"
    }
   ],
   "source": [
    "df5b.drop(['base64_img_data','file_attributes','fileref','regions'],axis=1,inplace=True)\n",
    "df5b.head()"
   ]
  },
  {
   "cell_type": "code",
   "execution_count": 36,
   "metadata": {
    "collapsed": false
   },
   "outputs": [
    {
     "data": {
      "text/plain": [
       "<bound method DataFrame.reset_index of                                                                  filename  \\\n",
       "50d6bcd38834a99002001846_4370.jpg95571  50d6bcd38834a99002001846_4370.jpg   \n",
       "50d6bcd38834a99002001846_4371.jpg32504  50d6bcd38834a99002001846_4371.jpg   \n",
       "50d6bcd38834a99002001846_4372.jpg40873  50d6bcd38834a99002001846_4372.jpg   \n",
       "50d6bcd38834a99002001846_4373.jpg29896  50d6bcd38834a99002001846_4373.jpg   \n",
       "50d6bcd38834a99002001846_4374.jpg60595  50d6bcd38834a99002001846_4374.jpg   \n",
       "50ec972dec3244a30e0001d3_7538.jpg47223  50ec972dec3244a30e0001d3_7538.jpg   \n",
       "50ec972dec3244a30e0001d3_7539.jpg48185  50ec972dec3244a30e0001d3_7539.jpg   \n",
       "50ec972dec3244a30e0001d3_7540.jpg39464  50ec972dec3244a30e0001d3_7540.jpg   \n",
       "50ec972dec3244a30e0001d3_7541.jpg44810  50ec972dec3244a30e0001d3_7541.jpg   \n",
       "50ec972dec3244a30e0001d3_7542.jpg43422  50ec972dec3244a30e0001d3_7542.jpg   \n",
       "50ec972dec3244a30e0001d3_7543.jpg52531  50ec972dec3244a30e0001d3_7543.jpg   \n",
       "50f61a5d9a61095914000004_7159.jpg41911  50f61a5d9a61095914000004_7159.jpg   \n",
       "50f61a5d9a61095914000004_7160.jpg38520  50f61a5d9a61095914000004_7160.jpg   \n",
       "50f61a5d9a61095914000004_7161.jpg63811  50f61a5d9a61095914000004_7161.jpg   \n",
       "50f61a5d9a61095914000004_7162.jpg89924  50f61a5d9a61095914000004_7162.jpg   \n",
       "50f61a5d9a61095914000004_7163.jpg36408  50f61a5d9a61095914000004_7163.jpg   \n",
       "510b25e0281dbc430d00037e_1993.jpg62565  510b25e0281dbc430d00037e_1993.jpg   \n",
       "510b25e0281dbc430d00037e_1994.jpg42991  510b25e0281dbc430d00037e_1994.jpg   \n",
       "510b25e0281dbc430d00037e_1995.jpg74946  510b25e0281dbc430d00037e_1995.jpg   \n",
       "510b25e0281dbc430d00037e_1996.jpg44617  510b25e0281dbc430d00037e_1996.jpg   \n",
       "510b25e0281dbc430d00037e_1997.jpg48041  510b25e0281dbc430d00037e_1997.jpg   \n",
       "510b25e0281dbc430d00037e_1998.jpg47678  510b25e0281dbc430d00037e_1998.jpg   \n",
       "510b25e0281dbc430d00037e_394.jpg62565    510b25e0281dbc430d00037e_394.jpg   \n",
       "510b25e0281dbc430d00037e_395.jpg42991    510b25e0281dbc430d00037e_395.jpg   \n",
       "510b25e0281dbc430d00037e_396.jpg74946    510b25e0281dbc430d00037e_396.jpg   \n",
       "510b25e0281dbc430d00037e_397.jpg44617    510b25e0281dbc430d00037e_397.jpg   \n",
       "510b25e0281dbc430d00037e_398.jpg48041    510b25e0281dbc430d00037e_398.jpg   \n",
       "510b25e0281dbc430d00037e_399.jpg47678    510b25e0281dbc430d00037e_399.jpg   \n",
       "511debaf5b3783754a00023d_8705.jpg41644  511debaf5b3783754a00023d_8705.jpg   \n",
       "511debaf5b3783754a00023d_8706.jpg50053  511debaf5b3783754a00023d_8706.jpg   \n",
       "...                                                                   ...   \n",
       "5978c1193ffb7be02527a2dc_7254.jpg69766  5978c1193ffb7be02527a2dc_7254.jpg   \n",
       "5978c1193ffb7be02527a2dc_7255.jpg91528  5978c1193ffb7be02527a2dc_7255.jpg   \n",
       "5978c1193ffb7be02527a2dc_7256.jpg54165  5978c1193ffb7be02527a2dc_7256.jpg   \n",
       "5978c1193ffb7be02527a2dc_7257.jpg71641  5978c1193ffb7be02527a2dc_7257.jpg   \n",
       "5978c1ffd71909e80adaa2f9_7130.jpg44995  5978c1ffd71909e80adaa2f9_7130.jpg   \n",
       "5978c1ffd71909e80adaa2f9_7131.jpg45413  5978c1ffd71909e80adaa2f9_7131.jpg   \n",
       "5978c1ffd71909e80adaa2f9_7132.jpg27511  5978c1ffd71909e80adaa2f9_7132.jpg   \n",
       "5978c1ffd71909e80adaa2f9_7133.jpg48251  5978c1ffd71909e80adaa2f9_7133.jpg   \n",
       "5978c210b451388d259650c4_8878.jpg58542  5978c210b451388d259650c4_8878.jpg   \n",
       "5978c210b451388d259650c4_8879.jpg81785  5978c210b451388d259650c4_8879.jpg   \n",
       "5978c210b451388d259650c4_8880.jpg75294  5978c210b451388d259650c4_8880.jpg   \n",
       "5978c210b451388d259650c4_8881.jpg52277  5978c210b451388d259650c4_8881.jpg   \n",
       "5978c31bd71909e80adaa3dc_5423.jpg56850  5978c31bd71909e80adaa3dc_5423.jpg   \n",
       "5978c31bd71909e80adaa3dc_5424.jpg80171  5978c31bd71909e80adaa3dc_5424.jpg   \n",
       "5978c31bd71909e80adaa3dc_5425.jpg81664  5978c31bd71909e80adaa3dc_5425.jpg   \n",
       "5978c31bd71909e80adaa3dc_5426.jpg50949  5978c31bd71909e80adaa3dc_5426.jpg   \n",
       "5978c6333ffb7be02527a827_3921.jpg95959  5978c6333ffb7be02527a827_3921.jpg   \n",
       "5978c6333ffb7be02527a827_3922.jpg94271  5978c6333ffb7be02527a827_3922.jpg   \n",
       "5978c6333ffb7be02527a827_3923.jpg80275  5978c6333ffb7be02527a827_3923.jpg   \n",
       "5978c67508cce6cd25ff61a2_8892.jpg52959  5978c67508cce6cd25ff61a2_8892.jpg   \n",
       "5978c67508cce6cd25ff61a2_8893.jpg27838  5978c67508cce6cd25ff61a2_8893.jpg   \n",
       "5978c67508cce6cd25ff61a2_8894.jpg63314  5978c67508cce6cd25ff61a2_8894.jpg   \n",
       "5978c67508cce6cd25ff61a2_8895.jpg61089  5978c67508cce6cd25ff61a2_8895.jpg   \n",
       "5978dab63ffb7be02527bd31_5531.jpg56259  5978dab63ffb7be02527bd31_5531.jpg   \n",
       "5978dc493ffb7be02527bf0c_965.jpg36309    5978dc493ffb7be02527bf0c_965.jpg   \n",
       "5978dc493ffb7be02527bf0c_966.jpg26349    5978dc493ffb7be02527bf0c_966.jpg   \n",
       "5978dc493ffb7be02527bf0c_967.jpg35645    5978dc493ffb7be02527bf0c_967.jpg   \n",
       "5978dc493ffb7be02527bf0c_968.jpg30342    5978dc493ffb7be02527bf0c_968.jpg   \n",
       "5978dc493ffb7be02527bf0c_969.jpg29640    5978dc493ffb7be02527bf0c_969.jpg   \n",
       "5978dc493ffb7be02527bf0c_970.jpg87676    5978dc493ffb7be02527bf0c_970.jpg   \n",
       "\n",
       "                                         size attributes2  \n",
       "50d6bcd38834a99002001846_4370.jpg95571  95571           0  \n",
       "50d6bcd38834a99002001846_4371.jpg32504  32504           0  \n",
       "50d6bcd38834a99002001846_4372.jpg40873  40873           0  \n",
       "50d6bcd38834a99002001846_4373.jpg29896  29896           0  \n",
       "50d6bcd38834a99002001846_4374.jpg60595  60595           1  \n",
       "50ec972dec3244a30e0001d3_7538.jpg47223  47223           1  \n",
       "50ec972dec3244a30e0001d3_7539.jpg48185  48185           1  \n",
       "50ec972dec3244a30e0001d3_7540.jpg39464  39464           1  \n",
       "50ec972dec3244a30e0001d3_7541.jpg44810  44810           1  \n",
       "50ec972dec3244a30e0001d3_7542.jpg43422  43422           0  \n",
       "50ec972dec3244a30e0001d3_7543.jpg52531  52531           0  \n",
       "50f61a5d9a61095914000004_7159.jpg41911  41911           0  \n",
       "50f61a5d9a61095914000004_7160.jpg38520  38520           0  \n",
       "50f61a5d9a61095914000004_7161.jpg63811  63811           0  \n",
       "50f61a5d9a61095914000004_7162.jpg89924  89924           0  \n",
       "50f61a5d9a61095914000004_7163.jpg36408  36408           0  \n",
       "510b25e0281dbc430d00037e_1993.jpg62565  62565          {}  \n",
       "510b25e0281dbc430d00037e_1994.jpg42991  42991          {}  \n",
       "510b25e0281dbc430d00037e_1995.jpg74946  74946          {}  \n",
       "510b25e0281dbc430d00037e_1996.jpg44617  44617          {}  \n",
       "510b25e0281dbc430d00037e_1997.jpg48041  48041          {}  \n",
       "510b25e0281dbc430d00037e_1998.jpg47678  47678          {}  \n",
       "510b25e0281dbc430d00037e_394.jpg62565   62565          {}  \n",
       "510b25e0281dbc430d00037e_395.jpg42991   42991          {}  \n",
       "510b25e0281dbc430d00037e_396.jpg74946   74946          {}  \n",
       "510b25e0281dbc430d00037e_397.jpg44617   44617          {}  \n",
       "510b25e0281dbc430d00037e_398.jpg48041   48041          {}  \n",
       "510b25e0281dbc430d00037e_399.jpg47678   47678          {}  \n",
       "511debaf5b3783754a00023d_8705.jpg41644  41644          {}  \n",
       "511debaf5b3783754a00023d_8706.jpg50053  50053          {}  \n",
       "...                                       ...         ...  \n",
       "5978c1193ffb7be02527a2dc_7254.jpg69766  69766          {}  \n",
       "5978c1193ffb7be02527a2dc_7255.jpg91528  91528          {}  \n",
       "5978c1193ffb7be02527a2dc_7256.jpg54165  54165          {}  \n",
       "5978c1193ffb7be02527a2dc_7257.jpg71641  71641          {}  \n",
       "5978c1ffd71909e80adaa2f9_7130.jpg44995  44995          {}  \n",
       "5978c1ffd71909e80adaa2f9_7131.jpg45413  45413          {}  \n",
       "5978c1ffd71909e80adaa2f9_7132.jpg27511  27511          {}  \n",
       "5978c1ffd71909e80adaa2f9_7133.jpg48251  48251          {}  \n",
       "5978c210b451388d259650c4_8878.jpg58542  58542          {}  \n",
       "5978c210b451388d259650c4_8879.jpg81785  81785          {}  \n",
       "5978c210b451388d259650c4_8880.jpg75294  75294          {}  \n",
       "5978c210b451388d259650c4_8881.jpg52277  52277          {}  \n",
       "5978c31bd71909e80adaa3dc_5423.jpg56850  56850          {}  \n",
       "5978c31bd71909e80adaa3dc_5424.jpg80171  80171          {}  \n",
       "5978c31bd71909e80adaa3dc_5425.jpg81664  81664          {}  \n",
       "5978c31bd71909e80adaa3dc_5426.jpg50949  50949          {}  \n",
       "5978c6333ffb7be02527a827_3921.jpg95959  95959          {}  \n",
       "5978c6333ffb7be02527a827_3922.jpg94271  94271          {}  \n",
       "5978c6333ffb7be02527a827_3923.jpg80275  80275          {}  \n",
       "5978c67508cce6cd25ff61a2_8892.jpg52959  52959          {}  \n",
       "5978c67508cce6cd25ff61a2_8893.jpg27838  27838          {}  \n",
       "5978c67508cce6cd25ff61a2_8894.jpg63314  63314          {}  \n",
       "5978c67508cce6cd25ff61a2_8895.jpg61089  61089          {}  \n",
       "5978dab63ffb7be02527bd31_5531.jpg56259  56259          {}  \n",
       "5978dc493ffb7be02527bf0c_965.jpg36309   36309          {}  \n",
       "5978dc493ffb7be02527bf0c_966.jpg26349   26349          {}  \n",
       "5978dc493ffb7be02527bf0c_967.jpg35645   35645          {}  \n",
       "5978dc493ffb7be02527bf0c_968.jpg30342   30342          {}  \n",
       "5978dc493ffb7be02527bf0c_969.jpg29640   29640          {}  \n",
       "5978dc493ffb7be02527bf0c_970.jpg87676   87676          {}  \n",
       "\n",
       "[8989 rows x 3 columns]>"
      ]
     },
     "execution_count": 36,
     "metadata": {},
     "output_type": "execute_result"
    }
   ],
   "source": [
    "#df5b.drop(df.columns[0], axis=1).head()\n",
    "df5b.reset_index"
   ]
  },
  {
   "cell_type": "code",
   "execution_count": 37,
   "metadata": {
    "collapsed": false
   },
   "outputs": [
    {
     "data": {
      "text/html": [
       "<div>\n",
       "<style>\n",
       "    .dataframe thead tr:only-child th {\n",
       "        text-align: right;\n",
       "    }\n",
       "\n",
       "    .dataframe thead th {\n",
       "        text-align: left;\n",
       "    }\n",
       "\n",
       "    .dataframe tbody tr th {\n",
       "        vertical-align: top;\n",
       "    }\n",
       "</style>\n",
       "<table border=\"1\" class=\"dataframe\">\n",
       "  <thead>\n",
       "    <tr style=\"text-align: right;\">\n",
       "      <th></th>\n",
       "      <th>filename</th>\n",
       "      <th>size</th>\n",
       "      <th>attributes2</th>\n",
       "    </tr>\n",
       "  </thead>\n",
       "  <tbody>\n",
       "    <tr>\n",
       "      <th>50d6bcd38834a99002001846_4370.jpg95571</th>\n",
       "      <td>50d6bcd38834a99002001846_4370.jpg</td>\n",
       "      <td>95571</td>\n",
       "      <td>0</td>\n",
       "    </tr>\n",
       "    <tr>\n",
       "      <th>50d6bcd38834a99002001846_4371.jpg32504</th>\n",
       "      <td>50d6bcd38834a99002001846_4371.jpg</td>\n",
       "      <td>32504</td>\n",
       "      <td>0</td>\n",
       "    </tr>\n",
       "    <tr>\n",
       "      <th>50d6bcd38834a99002001846_4372.jpg40873</th>\n",
       "      <td>50d6bcd38834a99002001846_4372.jpg</td>\n",
       "      <td>40873</td>\n",
       "      <td>0</td>\n",
       "    </tr>\n",
       "    <tr>\n",
       "      <th>50d6bcd38834a99002001846_4373.jpg29896</th>\n",
       "      <td>50d6bcd38834a99002001846_4373.jpg</td>\n",
       "      <td>29896</td>\n",
       "      <td>0</td>\n",
       "    </tr>\n",
       "    <tr>\n",
       "      <th>50d6bcd38834a99002001846_4374.jpg60595</th>\n",
       "      <td>50d6bcd38834a99002001846_4374.jpg</td>\n",
       "      <td>60595</td>\n",
       "      <td>1</td>\n",
       "    </tr>\n",
       "  </tbody>\n",
       "</table>\n",
       "</div>"
      ],
      "text/plain": [
       "                                                                 filename  \\\n",
       "50d6bcd38834a99002001846_4370.jpg95571  50d6bcd38834a99002001846_4370.jpg   \n",
       "50d6bcd38834a99002001846_4371.jpg32504  50d6bcd38834a99002001846_4371.jpg   \n",
       "50d6bcd38834a99002001846_4372.jpg40873  50d6bcd38834a99002001846_4372.jpg   \n",
       "50d6bcd38834a99002001846_4373.jpg29896  50d6bcd38834a99002001846_4373.jpg   \n",
       "50d6bcd38834a99002001846_4374.jpg60595  50d6bcd38834a99002001846_4374.jpg   \n",
       "\n",
       "                                         size attributes2  \n",
       "50d6bcd38834a99002001846_4370.jpg95571  95571           0  \n",
       "50d6bcd38834a99002001846_4371.jpg32504  32504           0  \n",
       "50d6bcd38834a99002001846_4372.jpg40873  40873           0  \n",
       "50d6bcd38834a99002001846_4373.jpg29896  29896           0  \n",
       "50d6bcd38834a99002001846_4374.jpg60595  60595           1  "
      ]
     },
     "execution_count": 37,
     "metadata": {},
     "output_type": "execute_result"
    }
   ],
   "source": [
    "df5b.head()"
   ]
  },
  {
   "cell_type": "code",
   "execution_count": 39,
   "metadata": {
    "collapsed": false
   },
   "outputs": [
    {
     "data": {
      "text/html": [
       "<div>\n",
       "<style>\n",
       "    .dataframe thead tr:only-child th {\n",
       "        text-align: right;\n",
       "    }\n",
       "\n",
       "    .dataframe thead th {\n",
       "        text-align: left;\n",
       "    }\n",
       "\n",
       "    .dataframe tbody tr th {\n",
       "        vertical-align: top;\n",
       "    }\n",
       "</style>\n",
       "<table border=\"1\" class=\"dataframe\">\n",
       "  <thead>\n",
       "    <tr style=\"text-align: right;\">\n",
       "      <th></th>\n",
       "      <th>filename</th>\n",
       "      <th>size</th>\n",
       "      <th>attributes2</th>\n",
       "    </tr>\n",
       "  </thead>\n",
       "  <tbody>\n",
       "    <tr>\n",
       "      <th>0</th>\n",
       "      <td>50d6bcd38834a99002001846_4370.jpg</td>\n",
       "      <td>95571</td>\n",
       "      <td>0</td>\n",
       "    </tr>\n",
       "    <tr>\n",
       "      <th>1</th>\n",
       "      <td>50d6bcd38834a99002001846_4371.jpg</td>\n",
       "      <td>32504</td>\n",
       "      <td>0</td>\n",
       "    </tr>\n",
       "    <tr>\n",
       "      <th>2</th>\n",
       "      <td>50d6bcd38834a99002001846_4372.jpg</td>\n",
       "      <td>40873</td>\n",
       "      <td>0</td>\n",
       "    </tr>\n",
       "    <tr>\n",
       "      <th>3</th>\n",
       "      <td>50d6bcd38834a99002001846_4373.jpg</td>\n",
       "      <td>29896</td>\n",
       "      <td>0</td>\n",
       "    </tr>\n",
       "    <tr>\n",
       "      <th>4</th>\n",
       "      <td>50d6bcd38834a99002001846_4374.jpg</td>\n",
       "      <td>60595</td>\n",
       "      <td>1</td>\n",
       "    </tr>\n",
       "  </tbody>\n",
       "</table>\n",
       "</div>"
      ],
      "text/plain": [
       "                            filename   size attributes2\n",
       "0  50d6bcd38834a99002001846_4370.jpg  95571           0\n",
       "1  50d6bcd38834a99002001846_4371.jpg  32504           0\n",
       "2  50d6bcd38834a99002001846_4372.jpg  40873           0\n",
       "3  50d6bcd38834a99002001846_4373.jpg  29896           0\n",
       "4  50d6bcd38834a99002001846_4374.jpg  60595           1"
      ]
     },
     "execution_count": 39,
     "metadata": {},
     "output_type": "execute_result"
    }
   ],
   "source": [
    "df5c=df5b.reset_index(drop=True)\n",
    "#df = df.ix[:, 0:2]\n",
    "df5c.head()"
   ]
  },
  {
   "cell_type": "code",
   "execution_count": 40,
   "metadata": {
    "collapsed": false
   },
   "outputs": [
    {
     "data": {
      "text/html": [
       "<div>\n",
       "<style>\n",
       "    .dataframe thead tr:only-child th {\n",
       "        text-align: right;\n",
       "    }\n",
       "\n",
       "    .dataframe thead th {\n",
       "        text-align: left;\n",
       "    }\n",
       "\n",
       "    .dataframe tbody tr th {\n",
       "        vertical-align: top;\n",
       "    }\n",
       "</style>\n",
       "<table border=\"1\" class=\"dataframe\">\n",
       "  <thead>\n",
       "    <tr style=\"text-align: right;\">\n",
       "      <th></th>\n",
       "      <th>Unnamed: 0</th>\n",
       "      <th>base64_img_data</th>\n",
       "      <th>file_attributes</th>\n",
       "      <th>filename</th>\n",
       "      <th>fileref</th>\n",
       "      <th>regions</th>\n",
       "      <th>size</th>\n",
       "    </tr>\n",
       "  </thead>\n",
       "  <tbody>\n",
       "    <tr>\n",
       "      <th>0</th>\n",
       "      <td>510b25e0281dbc430d00037e_1993.jpg62565</td>\n",
       "      <td>NaN</td>\n",
       "      <td>1</td>\n",
       "      <td>510b25e0281dbc430d00037e_1993.jpg</td>\n",
       "      <td>NaN</td>\n",
       "      <td>{}</td>\n",
       "      <td>62565</td>\n",
       "    </tr>\n",
       "    <tr>\n",
       "      <th>1</th>\n",
       "      <td>510b25e0281dbc430d00037e_1994.jpg42991</td>\n",
       "      <td>NaN</td>\n",
       "      <td>1</td>\n",
       "      <td>510b25e0281dbc430d00037e_1994.jpg</td>\n",
       "      <td>NaN</td>\n",
       "      <td>{}</td>\n",
       "      <td>42991</td>\n",
       "    </tr>\n",
       "    <tr>\n",
       "      <th>2</th>\n",
       "      <td>510b25e0281dbc430d00037e_1995.jpg74946</td>\n",
       "      <td>NaN</td>\n",
       "      <td>1</td>\n",
       "      <td>510b25e0281dbc430d00037e_1995.jpg</td>\n",
       "      <td>NaN</td>\n",
       "      <td>{}</td>\n",
       "      <td>74946</td>\n",
       "    </tr>\n",
       "    <tr>\n",
       "      <th>3</th>\n",
       "      <td>510b25e0281dbc430d00037e_1996.jpg44617</td>\n",
       "      <td>NaN</td>\n",
       "      <td>1</td>\n",
       "      <td>510b25e0281dbc430d00037e_1996.jpg</td>\n",
       "      <td>NaN</td>\n",
       "      <td>{}</td>\n",
       "      <td>44617</td>\n",
       "    </tr>\n",
       "    <tr>\n",
       "      <th>4</th>\n",
       "      <td>510b25e0281dbc430d00037e_1997.jpg48041</td>\n",
       "      <td>NaN</td>\n",
       "      <td>1</td>\n",
       "      <td>510b25e0281dbc430d00037e_1997.jpg</td>\n",
       "      <td>NaN</td>\n",
       "      <td>{}</td>\n",
       "      <td>48041</td>\n",
       "    </tr>\n",
       "  </tbody>\n",
       "</table>\n",
       "</div>"
      ],
      "text/plain": [
       "                               Unnamed: 0  base64_img_data file_attributes  \\\n",
       "0  510b25e0281dbc430d00037e_1993.jpg62565              NaN               1   \n",
       "1  510b25e0281dbc430d00037e_1994.jpg42991              NaN               1   \n",
       "2  510b25e0281dbc430d00037e_1995.jpg74946              NaN               1   \n",
       "3  510b25e0281dbc430d00037e_1996.jpg44617              NaN               1   \n",
       "4  510b25e0281dbc430d00037e_1997.jpg48041              NaN               1   \n",
       "\n",
       "                            filename  fileref regions   size  \n",
       "0  510b25e0281dbc430d00037e_1993.jpg      NaN      {}  62565  \n",
       "1  510b25e0281dbc430d00037e_1994.jpg      NaN      {}  42991  \n",
       "2  510b25e0281dbc430d00037e_1995.jpg      NaN      {}  74946  \n",
       "3  510b25e0281dbc430d00037e_1996.jpg      NaN      {}  44617  \n",
       "4  510b25e0281dbc430d00037e_1997.jpg      NaN      {}  48041  "
      ]
     },
     "execution_count": 40,
     "metadata": {},
     "output_type": "execute_result"
    }
   ],
   "source": [
    "path='/Users/joaquincunanan/Dropbox (winners)/tinder_labelling/tinder_labels.csv'\n",
    "df=pd.read_csv(path)\n",
    "df.head()"
   ]
  },
  {
   "cell_type": "code",
   "execution_count": 44,
   "metadata": {
    "collapsed": false
   },
   "outputs": [],
   "source": [
    "df5c=df5c.rename(index=str, columns={\"attributes2\":\"file_attributes\"})\n"
   ]
  },
  {
   "cell_type": "code",
   "execution_count": 45,
   "metadata": {
    "collapsed": false
   },
   "outputs": [
    {
     "data": {
      "text/html": [
       "<div>\n",
       "<style>\n",
       "    .dataframe thead tr:only-child th {\n",
       "        text-align: right;\n",
       "    }\n",
       "\n",
       "    .dataframe thead th {\n",
       "        text-align: left;\n",
       "    }\n",
       "\n",
       "    .dataframe tbody tr th {\n",
       "        vertical-align: top;\n",
       "    }\n",
       "</style>\n",
       "<table border=\"1\" class=\"dataframe\">\n",
       "  <thead>\n",
       "    <tr style=\"text-align: right;\">\n",
       "      <th></th>\n",
       "      <th>filename</th>\n",
       "      <th>size</th>\n",
       "      <th>file_attributes</th>\n",
       "    </tr>\n",
       "  </thead>\n",
       "  <tbody>\n",
       "    <tr>\n",
       "      <th>0</th>\n",
       "      <td>50d6bcd38834a99002001846_4370.jpg</td>\n",
       "      <td>95571</td>\n",
       "      <td>0</td>\n",
       "    </tr>\n",
       "    <tr>\n",
       "      <th>1</th>\n",
       "      <td>50d6bcd38834a99002001846_4371.jpg</td>\n",
       "      <td>32504</td>\n",
       "      <td>0</td>\n",
       "    </tr>\n",
       "    <tr>\n",
       "      <th>2</th>\n",
       "      <td>50d6bcd38834a99002001846_4372.jpg</td>\n",
       "      <td>40873</td>\n",
       "      <td>0</td>\n",
       "    </tr>\n",
       "    <tr>\n",
       "      <th>3</th>\n",
       "      <td>50d6bcd38834a99002001846_4373.jpg</td>\n",
       "      <td>29896</td>\n",
       "      <td>0</td>\n",
       "    </tr>\n",
       "    <tr>\n",
       "      <th>4</th>\n",
       "      <td>50d6bcd38834a99002001846_4374.jpg</td>\n",
       "      <td>60595</td>\n",
       "      <td>1</td>\n",
       "    </tr>\n",
       "  </tbody>\n",
       "</table>\n",
       "</div>"
      ],
      "text/plain": [
       "                            filename   size file_attributes\n",
       "0  50d6bcd38834a99002001846_4370.jpg  95571               0\n",
       "1  50d6bcd38834a99002001846_4371.jpg  32504               0\n",
       "2  50d6bcd38834a99002001846_4372.jpg  40873               0\n",
       "3  50d6bcd38834a99002001846_4373.jpg  29896               0\n",
       "4  50d6bcd38834a99002001846_4374.jpg  60595               1"
      ]
     },
     "execution_count": 45,
     "metadata": {},
     "output_type": "execute_result"
    }
   ],
   "source": [
    "df5c.head()"
   ]
  },
  {
   "cell_type": "code",
   "execution_count": 48,
   "metadata": {
    "collapsed": false
   },
   "outputs": [],
   "source": [
    "df=df.drop(['Unnamed: 0','base64_img_data','fileref','regions'],axis=1)"
   ]
  },
  {
   "cell_type": "code",
   "execution_count": 49,
   "metadata": {
    "collapsed": false
   },
   "outputs": [
    {
     "data": {
      "text/html": [
       "<div>\n",
       "<style>\n",
       "    .dataframe thead tr:only-child th {\n",
       "        text-align: right;\n",
       "    }\n",
       "\n",
       "    .dataframe thead th {\n",
       "        text-align: left;\n",
       "    }\n",
       "\n",
       "    .dataframe tbody tr th {\n",
       "        vertical-align: top;\n",
       "    }\n",
       "</style>\n",
       "<table border=\"1\" class=\"dataframe\">\n",
       "  <thead>\n",
       "    <tr style=\"text-align: right;\">\n",
       "      <th></th>\n",
       "      <th>file_attributes</th>\n",
       "      <th>filename</th>\n",
       "      <th>size</th>\n",
       "    </tr>\n",
       "  </thead>\n",
       "  <tbody>\n",
       "    <tr>\n",
       "      <th>0</th>\n",
       "      <td>1</td>\n",
       "      <td>510b25e0281dbc430d00037e_1993.jpg</td>\n",
       "      <td>62565</td>\n",
       "    </tr>\n",
       "    <tr>\n",
       "      <th>1</th>\n",
       "      <td>1</td>\n",
       "      <td>510b25e0281dbc430d00037e_1994.jpg</td>\n",
       "      <td>42991</td>\n",
       "    </tr>\n",
       "    <tr>\n",
       "      <th>2</th>\n",
       "      <td>1</td>\n",
       "      <td>510b25e0281dbc430d00037e_1995.jpg</td>\n",
       "      <td>74946</td>\n",
       "    </tr>\n",
       "    <tr>\n",
       "      <th>3</th>\n",
       "      <td>1</td>\n",
       "      <td>510b25e0281dbc430d00037e_1996.jpg</td>\n",
       "      <td>44617</td>\n",
       "    </tr>\n",
       "    <tr>\n",
       "      <th>4</th>\n",
       "      <td>1</td>\n",
       "      <td>510b25e0281dbc430d00037e_1997.jpg</td>\n",
       "      <td>48041</td>\n",
       "    </tr>\n",
       "  </tbody>\n",
       "</table>\n",
       "</div>"
      ],
      "text/plain": [
       "  file_attributes                           filename   size\n",
       "0               1  510b25e0281dbc430d00037e_1993.jpg  62565\n",
       "1               1  510b25e0281dbc430d00037e_1994.jpg  42991\n",
       "2               1  510b25e0281dbc430d00037e_1995.jpg  74946\n",
       "3               1  510b25e0281dbc430d00037e_1996.jpg  44617\n",
       "4               1  510b25e0281dbc430d00037e_1997.jpg  48041"
      ]
     },
     "execution_count": 49,
     "metadata": {},
     "output_type": "execute_result"
    }
   ],
   "source": [
    "df.head()"
   ]
  },
  {
   "cell_type": "code",
   "execution_count": 50,
   "metadata": {
    "collapsed": false
   },
   "outputs": [
    {
     "data": {
      "text/html": [
       "<div>\n",
       "<style>\n",
       "    .dataframe thead tr:only-child th {\n",
       "        text-align: right;\n",
       "    }\n",
       "\n",
       "    .dataframe thead th {\n",
       "        text-align: left;\n",
       "    }\n",
       "\n",
       "    .dataframe tbody tr th {\n",
       "        vertical-align: top;\n",
       "    }\n",
       "</style>\n",
       "<table border=\"1\" class=\"dataframe\">\n",
       "  <thead>\n",
       "    <tr style=\"text-align: right;\">\n",
       "      <th></th>\n",
       "      <th>filename</th>\n",
       "      <th>size</th>\n",
       "      <th>file_attributes</th>\n",
       "    </tr>\n",
       "  </thead>\n",
       "  <tbody>\n",
       "    <tr>\n",
       "      <th>0</th>\n",
       "      <td>510b25e0281dbc430d00037e_1993.jpg</td>\n",
       "      <td>62565</td>\n",
       "      <td>1</td>\n",
       "    </tr>\n",
       "    <tr>\n",
       "      <th>1</th>\n",
       "      <td>510b25e0281dbc430d00037e_1994.jpg</td>\n",
       "      <td>42991</td>\n",
       "      <td>1</td>\n",
       "    </tr>\n",
       "    <tr>\n",
       "      <th>2</th>\n",
       "      <td>510b25e0281dbc430d00037e_1995.jpg</td>\n",
       "      <td>74946</td>\n",
       "      <td>1</td>\n",
       "    </tr>\n",
       "    <tr>\n",
       "      <th>3</th>\n",
       "      <td>510b25e0281dbc430d00037e_1996.jpg</td>\n",
       "      <td>44617</td>\n",
       "      <td>1</td>\n",
       "    </tr>\n",
       "    <tr>\n",
       "      <th>4</th>\n",
       "      <td>510b25e0281dbc430d00037e_1997.jpg</td>\n",
       "      <td>48041</td>\n",
       "      <td>1</td>\n",
       "    </tr>\n",
       "  </tbody>\n",
       "</table>\n",
       "</div>"
      ],
      "text/plain": [
       "                            filename   size file_attributes\n",
       "0  510b25e0281dbc430d00037e_1993.jpg  62565               1\n",
       "1  510b25e0281dbc430d00037e_1994.jpg  42991               1\n",
       "2  510b25e0281dbc430d00037e_1995.jpg  74946               1\n",
       "3  510b25e0281dbc430d00037e_1996.jpg  44617               1\n",
       "4  510b25e0281dbc430d00037e_1997.jpg  48041               1"
      ]
     },
     "execution_count": 50,
     "metadata": {},
     "output_type": "execute_result"
    }
   ],
   "source": [
    "df=df[['filename','size','file_attributes']]\n",
    "df.head()"
   ]
  },
  {
   "cell_type": "code",
   "execution_count": 53,
   "metadata": {
    "collapsed": false
   },
   "outputs": [
    {
     "data": {
      "text/plain": [
       "(7406, 3)"
      ]
     },
     "execution_count": 53,
     "metadata": {},
     "output_type": "execute_result"
    }
   ],
   "source": [
    "df.shape"
   ]
  },
  {
   "cell_type": "code",
   "execution_count": 70,
   "metadata": {
    "collapsed": false
   },
   "outputs": [
    {
     "data": {
      "text/plain": [
       "(959, 3)"
      ]
     },
     "execution_count": 70,
     "metadata": {},
     "output_type": "execute_result"
    }
   ],
   "source": [
    "import numpy as np\n",
    "df[(df.file_attributes=='1' )].shape"
   ]
  },
  {
   "cell_type": "code",
   "execution_count": 71,
   "metadata": {
    "collapsed": false
   },
   "outputs": [
    {
     "data": {
      "text/plain": [
       "(3310, 3)"
      ]
     },
     "execution_count": 71,
     "metadata": {},
     "output_type": "execute_result"
    }
   ],
   "source": [
    "df[(df.file_attributes=='0' )].shape"
   ]
  },
  {
   "cell_type": "code",
   "execution_count": 76,
   "metadata": {
    "collapsed": false
   },
   "outputs": [
    {
     "data": {
      "text/plain": [
       "(538, 3)"
      ]
     },
     "execution_count": 76,
     "metadata": {},
     "output_type": "execute_result"
    }
   ],
   "source": [
    "df5c[df5c.file_attributes==1].shape"
   ]
  },
  {
   "cell_type": "code",
   "execution_count": 77,
   "metadata": {
    "collapsed": false
   },
   "outputs": [
    {
     "data": {
      "text/plain": [
       "(1045, 3)"
      ]
     },
     "execution_count": 77,
     "metadata": {},
     "output_type": "execute_result"
    }
   ],
   "source": [
    "df5c[df5c.file_attributes==0].shape"
   ]
  },
  {
   "cell_type": "code",
   "execution_count": 79,
   "metadata": {
    "collapsed": false
   },
   "outputs": [
    {
     "data": {
      "text/plain": [
       "array(['1', '0', nan, '01', '00', '{}'], dtype=object)"
      ]
     },
     "execution_count": 79,
     "metadata": {},
     "output_type": "execute_result"
    }
   ],
   "source": [
    "df.file_attributes.unique()"
   ]
  },
  {
   "cell_type": "code",
   "execution_count": 80,
   "metadata": {
    "collapsed": false
   },
   "outputs": [
    {
     "data": {
      "text/plain": [
       "array([0, 1, '{}'], dtype=object)"
      ]
     },
     "execution_count": 80,
     "metadata": {},
     "output_type": "execute_result"
    }
   ],
   "source": [
    "df5c.file_attributes.unique()"
   ]
  },
  {
   "cell_type": "code",
   "execution_count": 81,
   "metadata": {
    "collapsed": false
   },
   "outputs": [
    {
     "data": {
      "text/plain": [
       "(1583, 3)"
      ]
     },
     "execution_count": 81,
     "metadata": {},
     "output_type": "execute_result"
    }
   ],
   "source": [
    "df5c[df5c.file_attributes<>'{}'].shape"
   ]
  },
  {
   "cell_type": "code",
   "execution_count": 137,
   "metadata": {
    "collapsed": false
   },
   "outputs": [],
   "source": [
    "df2=df.replace(to_replace=['01','00','{}'],value=[np.nan,np.nan,np.nan])"
   ]
  },
  {
   "cell_type": "code",
   "execution_count": 138,
   "metadata": {
    "collapsed": false
   },
   "outputs": [
    {
     "data": {
      "text/plain": [
       "array(['1', '0', nan], dtype=object)"
      ]
     },
     "execution_count": 138,
     "metadata": {},
     "output_type": "execute_result"
    }
   ],
   "source": [
    "df2.file_attributes.unique()"
   ]
  },
  {
   "cell_type": "code",
   "execution_count": 93,
   "metadata": {
    "collapsed": true
   },
   "outputs": [],
   "source": [
    "df5c=df5c.replace(to_replace=[float(0),float(1),'{}'],value=[int(0),int(1),np.nan])"
   ]
  },
  {
   "cell_type": "code",
   "execution_count": 94,
   "metadata": {
    "collapsed": false
   },
   "outputs": [
    {
     "data": {
      "text/plain": [
       "array([  0.,   1.,  nan])"
      ]
     },
     "execution_count": 94,
     "metadata": {},
     "output_type": "execute_result"
    }
   ],
   "source": [
    "df5c.file_attributes.unique()"
   ]
  },
  {
   "cell_type": "code",
   "execution_count": 95,
   "metadata": {
    "collapsed": false
   },
   "outputs": [
    {
     "data": {
      "text/plain": [
       "array([  1.,   0.,  nan])"
      ]
     },
     "execution_count": 95,
     "metadata": {},
     "output_type": "execute_result"
    }
   ],
   "source": [
    "df2=df2.replace(to_replace=['1','0'],value=[1,0])\n",
    "df2.file_attributes.unique()"
   ]
  },
  {
   "cell_type": "code",
   "execution_count": 108,
   "metadata": {
    "collapsed": false
   },
   "outputs": [
    {
     "data": {
      "text/plain": [
       "nan"
      ]
     },
     "execution_count": 108,
     "metadata": {},
     "output_type": "execute_result"
    }
   ],
   "source": [
    "x=df2.file_attributes.unique()\n",
    "x[2]"
   ]
  },
  {
   "cell_type": "code",
   "execution_count": 141,
   "metadata": {
    "collapsed": false
   },
   "outputs": [
    {
     "data": {
      "text/plain": [
       "array(['1', '0', 'x'], dtype=object)"
      ]
     },
     "execution_count": 141,
     "metadata": {},
     "output_type": "execute_result"
    }
   ],
   "source": [
    "df2=df2.fillna(value='x')\n",
    "df2.file_attributes.unique()"
   ]
  },
  {
   "cell_type": "code",
   "execution_count": 143,
   "metadata": {
    "collapsed": false
   },
   "outputs": [],
   "source": [
    "df2=df2[df2.file_attributes<>'x']\n"
   ]
  },
  {
   "cell_type": "code",
   "execution_count": 148,
   "metadata": {
    "collapsed": false
   },
   "outputs": [
    {
     "data": {
      "text/plain": [
       "(4269, 3)"
      ]
     },
     "execution_count": 148,
     "metadata": {},
     "output_type": "execute_result"
    }
   ],
   "source": [
    "df2.shape"
   ]
  },
  {
   "cell_type": "code",
   "execution_count": 133,
   "metadata": {
    "collapsed": false
   },
   "outputs": [
    {
     "data": {
      "text/plain": [
       "array([0.0, 1.0, 'x'], dtype=object)"
      ]
     },
     "execution_count": 133,
     "metadata": {},
     "output_type": "execute_result"
    }
   ],
   "source": [
    "df5c=df5c.fillna(value='x')\n",
    "df5c.file_attributes.unique()"
   ]
  },
  {
   "cell_type": "code",
   "execution_count": 156,
   "metadata": {
    "collapsed": false
   },
   "outputs": [
    {
     "data": {
      "text/plain": [
       "(1583, 3)"
      ]
     },
     "execution_count": 156,
     "metadata": {},
     "output_type": "execute_result"
    }
   ],
   "source": [
    "df5c=df5c[df5c.file_attributes<>'x']\n",
    "df5c.shape"
   ]
  },
  {
   "cell_type": "code",
   "execution_count": 157,
   "metadata": {
    "collapsed": false
   },
   "outputs": [
    {
     "data": {
      "text/plain": [
       "(4269, 3)"
      ]
     },
     "execution_count": 157,
     "metadata": {},
     "output_type": "execute_result"
    }
   ],
   "source": [
    "df2.shape\n"
   ]
  },
  {
   "cell_type": "code",
   "execution_count": 149,
   "metadata": {
    "collapsed": false
   },
   "outputs": [
    {
     "data": {
      "text/html": [
       "<div>\n",
       "<style>\n",
       "    .dataframe thead tr:only-child th {\n",
       "        text-align: right;\n",
       "    }\n",
       "\n",
       "    .dataframe thead th {\n",
       "        text-align: left;\n",
       "    }\n",
       "\n",
       "    .dataframe tbody tr th {\n",
       "        vertical-align: top;\n",
       "    }\n",
       "</style>\n",
       "<table border=\"1\" class=\"dataframe\">\n",
       "  <thead>\n",
       "    <tr style=\"text-align: right;\">\n",
       "      <th></th>\n",
       "      <th>filename</th>\n",
       "      <th>size</th>\n",
       "      <th>file_attributes</th>\n",
       "    </tr>\n",
       "  </thead>\n",
       "  <tbody>\n",
       "    <tr>\n",
       "      <th>0</th>\n",
       "      <td>510b25e0281dbc430d00037e_1993.jpg</td>\n",
       "      <td>62565</td>\n",
       "      <td>1</td>\n",
       "    </tr>\n",
       "    <tr>\n",
       "      <th>1</th>\n",
       "      <td>510b25e0281dbc430d00037e_1994.jpg</td>\n",
       "      <td>42991</td>\n",
       "      <td>1</td>\n",
       "    </tr>\n",
       "    <tr>\n",
       "      <th>2</th>\n",
       "      <td>510b25e0281dbc430d00037e_1995.jpg</td>\n",
       "      <td>74946</td>\n",
       "      <td>1</td>\n",
       "    </tr>\n",
       "    <tr>\n",
       "      <th>3</th>\n",
       "      <td>510b25e0281dbc430d00037e_1996.jpg</td>\n",
       "      <td>44617</td>\n",
       "      <td>1</td>\n",
       "    </tr>\n",
       "    <tr>\n",
       "      <th>4</th>\n",
       "      <td>510b25e0281dbc430d00037e_1997.jpg</td>\n",
       "      <td>48041</td>\n",
       "      <td>1</td>\n",
       "    </tr>\n",
       "  </tbody>\n",
       "</table>\n",
       "</div>"
      ],
      "text/plain": [
       "                            filename   size file_attributes\n",
       "0  510b25e0281dbc430d00037e_1993.jpg  62565               1\n",
       "1  510b25e0281dbc430d00037e_1994.jpg  42991               1\n",
       "2  510b25e0281dbc430d00037e_1995.jpg  74946               1\n",
       "3  510b25e0281dbc430d00037e_1996.jpg  44617               1\n",
       "4  510b25e0281dbc430d00037e_1997.jpg  48041               1"
      ]
     },
     "execution_count": 149,
     "metadata": {},
     "output_type": "execute_result"
    }
   ],
   "source": [
    "df2.head()"
   ]
  },
  {
   "cell_type": "code",
   "execution_count": 150,
   "metadata": {
    "collapsed": false
   },
   "outputs": [
    {
     "data": {
      "text/html": [
       "<div>\n",
       "<style>\n",
       "    .dataframe thead tr:only-child th {\n",
       "        text-align: right;\n",
       "    }\n",
       "\n",
       "    .dataframe thead th {\n",
       "        text-align: left;\n",
       "    }\n",
       "\n",
       "    .dataframe tbody tr th {\n",
       "        vertical-align: top;\n",
       "    }\n",
       "</style>\n",
       "<table border=\"1\" class=\"dataframe\">\n",
       "  <thead>\n",
       "    <tr style=\"text-align: right;\">\n",
       "      <th></th>\n",
       "      <th>filename</th>\n",
       "      <th>size</th>\n",
       "      <th>file_attributes</th>\n",
       "    </tr>\n",
       "  </thead>\n",
       "  <tbody>\n",
       "    <tr>\n",
       "      <th>0</th>\n",
       "      <td>50d6bcd38834a99002001846_4370.jpg</td>\n",
       "      <td>95571</td>\n",
       "      <td>0</td>\n",
       "    </tr>\n",
       "    <tr>\n",
       "      <th>1</th>\n",
       "      <td>50d6bcd38834a99002001846_4371.jpg</td>\n",
       "      <td>32504</td>\n",
       "      <td>0</td>\n",
       "    </tr>\n",
       "    <tr>\n",
       "      <th>2</th>\n",
       "      <td>50d6bcd38834a99002001846_4372.jpg</td>\n",
       "      <td>40873</td>\n",
       "      <td>0</td>\n",
       "    </tr>\n",
       "    <tr>\n",
       "      <th>3</th>\n",
       "      <td>50d6bcd38834a99002001846_4373.jpg</td>\n",
       "      <td>29896</td>\n",
       "      <td>0</td>\n",
       "    </tr>\n",
       "    <tr>\n",
       "      <th>4</th>\n",
       "      <td>50d6bcd38834a99002001846_4374.jpg</td>\n",
       "      <td>60595</td>\n",
       "      <td>1</td>\n",
       "    </tr>\n",
       "  </tbody>\n",
       "</table>\n",
       "</div>"
      ],
      "text/plain": [
       "                            filename   size file_attributes\n",
       "0  50d6bcd38834a99002001846_4370.jpg  95571               0\n",
       "1  50d6bcd38834a99002001846_4371.jpg  32504               0\n",
       "2  50d6bcd38834a99002001846_4372.jpg  40873               0\n",
       "3  50d6bcd38834a99002001846_4373.jpg  29896               0\n",
       "4  50d6bcd38834a99002001846_4374.jpg  60595               1"
      ]
     },
     "execution_count": 150,
     "metadata": {},
     "output_type": "execute_result"
    }
   ],
   "source": [
    "df5c.head()\n"
   ]
  },
  {
   "cell_type": "code",
   "execution_count": 158,
   "metadata": {
    "collapsed": true
   },
   "outputs": [],
   "source": [
    "df_x=pd.concat([df2,df5c])"
   ]
  },
  {
   "cell_type": "code",
   "execution_count": 159,
   "metadata": {
    "collapsed": false
   },
   "outputs": [
    {
     "data": {
      "text/html": [
       "<div>\n",
       "<style>\n",
       "    .dataframe thead tr:only-child th {\n",
       "        text-align: right;\n",
       "    }\n",
       "\n",
       "    .dataframe thead th {\n",
       "        text-align: left;\n",
       "    }\n",
       "\n",
       "    .dataframe tbody tr th {\n",
       "        vertical-align: top;\n",
       "    }\n",
       "</style>\n",
       "<table border=\"1\" class=\"dataframe\">\n",
       "  <thead>\n",
       "    <tr style=\"text-align: right;\">\n",
       "      <th></th>\n",
       "      <th>filename</th>\n",
       "      <th>size</th>\n",
       "      <th>file_attributes</th>\n",
       "    </tr>\n",
       "  </thead>\n",
       "  <tbody>\n",
       "    <tr>\n",
       "      <th>0</th>\n",
       "      <td>510b25e0281dbc430d00037e_1993.jpg</td>\n",
       "      <td>62565</td>\n",
       "      <td>1</td>\n",
       "    </tr>\n",
       "    <tr>\n",
       "      <th>1</th>\n",
       "      <td>510b25e0281dbc430d00037e_1994.jpg</td>\n",
       "      <td>42991</td>\n",
       "      <td>1</td>\n",
       "    </tr>\n",
       "    <tr>\n",
       "      <th>2</th>\n",
       "      <td>510b25e0281dbc430d00037e_1995.jpg</td>\n",
       "      <td>74946</td>\n",
       "      <td>1</td>\n",
       "    </tr>\n",
       "    <tr>\n",
       "      <th>3</th>\n",
       "      <td>510b25e0281dbc430d00037e_1996.jpg</td>\n",
       "      <td>44617</td>\n",
       "      <td>1</td>\n",
       "    </tr>\n",
       "    <tr>\n",
       "      <th>4</th>\n",
       "      <td>510b25e0281dbc430d00037e_1997.jpg</td>\n",
       "      <td>48041</td>\n",
       "      <td>1</td>\n",
       "    </tr>\n",
       "  </tbody>\n",
       "</table>\n",
       "</div>"
      ],
      "text/plain": [
       "                            filename   size file_attributes\n",
       "0  510b25e0281dbc430d00037e_1993.jpg  62565               1\n",
       "1  510b25e0281dbc430d00037e_1994.jpg  42991               1\n",
       "2  510b25e0281dbc430d00037e_1995.jpg  74946               1\n",
       "3  510b25e0281dbc430d00037e_1996.jpg  44617               1\n",
       "4  510b25e0281dbc430d00037e_1997.jpg  48041               1"
      ]
     },
     "execution_count": 159,
     "metadata": {},
     "output_type": "execute_result"
    }
   ],
   "source": [
    "df_x.head()\n"
   ]
  },
  {
   "cell_type": "code",
   "execution_count": 160,
   "metadata": {
    "collapsed": false
   },
   "outputs": [
    {
     "data": {
      "text/plain": [
       "(5852, 3)"
      ]
     },
     "execution_count": 160,
     "metadata": {},
     "output_type": "execute_result"
    }
   ],
   "source": [
    "df_x.shape"
   ]
  },
  {
   "cell_type": "code",
   "execution_count": 161,
   "metadata": {
    "collapsed": true
   },
   "outputs": [],
   "source": [
    "df_x.to_csv('all_tinder_labels')"
   ]
  },
  {
   "cell_type": "code",
   "execution_count": 36,
   "metadata": {
    "collapsed": false
   },
   "outputs": [],
   "source": [
    "import pandas as pd\n",
    "from keras.preprocessing import image as image_utils\n",
    "df_x=pd.read_csv('all_tinder_labels')\n",
    "for index, row in df_x.iterrows():\n",
    "    #print(index, row[1])\n",
    "    path='/Users/joaquincunanan/Dropbox (winners)/Tinder/images/'+row[1]\n",
    "    #print(path)\n",
    "    try:\n",
    "        img = image_utils.load_img(path, target_size=(224, 224))\n",
    "        x = image_utils.img_to_array(img)\n",
    "#         x = np.expand_dims(x, axis=0)\n",
    "        \n",
    "    except:\n",
    "        #df_x[index,2]='x'\n",
    "        print(index,row[1])\n",
    "    \n",
    "    \n"
   ]
  },
  {
   "cell_type": "code",
   "execution_count": 6,
   "metadata": {
    "collapsed": false
   },
   "outputs": [],
   "source": [
    "df_x.drop([1001,1651,2611,3424],inplace=True)\n",
    "    \n",
    "    \n"
   ]
  },
  {
   "cell_type": "code",
   "execution_count": 39,
   "metadata": {
    "collapsed": false
   },
   "outputs": [
    {
     "data": {
      "text/html": [
       "<div>\n",
       "<style>\n",
       "    .dataframe thead tr:only-child th {\n",
       "        text-align: right;\n",
       "    }\n",
       "\n",
       "    .dataframe thead th {\n",
       "        text-align: left;\n",
       "    }\n",
       "\n",
       "    .dataframe tbody tr th {\n",
       "        vertical-align: top;\n",
       "    }\n",
       "</style>\n",
       "<table border=\"1\" class=\"dataframe\">\n",
       "  <thead>\n",
       "    <tr style=\"text-align: right;\">\n",
       "      <th></th>\n",
       "      <th>Unnamed: 0</th>\n",
       "      <th>filename</th>\n",
       "      <th>size</th>\n",
       "      <th>file_attributes</th>\n",
       "    </tr>\n",
       "  </thead>\n",
       "  <tbody>\n",
       "  </tbody>\n",
       "</table>\n",
       "</div>"
      ],
      "text/plain": [
       "Empty DataFrame\n",
       "Columns: [Unnamed: 0, filename, size, file_attributes]\n",
       "Index: []"
      ]
     },
     "execution_count": 39,
     "metadata": {},
     "output_type": "execute_result"
    }
   ],
   "source": [
    "df_x[df_x['filename']=='54dea32314965c3217ed784d_868.jpg']"
   ]
  },
  {
   "cell_type": "code",
   "execution_count": 30,
   "metadata": {
    "collapsed": false
   },
   "outputs": [],
   "source": [
    "df_x.drop(['Unnamed: 0.1'],axis=1,inplace=True)"
   ]
  },
  {
   "cell_type": "code",
   "execution_count": 29,
   "metadata": {
    "collapsed": false
   },
   "outputs": [
    {
     "data": {
      "text/html": [
       "<div>\n",
       "<style>\n",
       "    .dataframe thead tr:only-child th {\n",
       "        text-align: right;\n",
       "    }\n",
       "\n",
       "    .dataframe thead th {\n",
       "        text-align: left;\n",
       "    }\n",
       "\n",
       "    .dataframe tbody tr th {\n",
       "        vertical-align: top;\n",
       "    }\n",
       "</style>\n",
       "<table border=\"1\" class=\"dataframe\">\n",
       "  <thead>\n",
       "    <tr style=\"text-align: right;\">\n",
       "      <th></th>\n",
       "      <th>Unnamed: 0</th>\n",
       "      <th>Unnamed: 0.1</th>\n",
       "      <th>filename</th>\n",
       "      <th>size</th>\n",
       "      <th>file_attributes</th>\n",
       "    </tr>\n",
       "  </thead>\n",
       "  <tbody>\n",
       "    <tr>\n",
       "      <th>0</th>\n",
       "      <td>0</td>\n",
       "      <td>0</td>\n",
       "      <td>510b25e0281dbc430d00037e_1993.jpg</td>\n",
       "      <td>62565</td>\n",
       "      <td>1.0</td>\n",
       "    </tr>\n",
       "    <tr>\n",
       "      <th>1</th>\n",
       "      <td>1</td>\n",
       "      <td>1</td>\n",
       "      <td>510b25e0281dbc430d00037e_1994.jpg</td>\n",
       "      <td>42991</td>\n",
       "      <td>1.0</td>\n",
       "    </tr>\n",
       "    <tr>\n",
       "      <th>2</th>\n",
       "      <td>2</td>\n",
       "      <td>2</td>\n",
       "      <td>510b25e0281dbc430d00037e_1995.jpg</td>\n",
       "      <td>74946</td>\n",
       "      <td>1.0</td>\n",
       "    </tr>\n",
       "    <tr>\n",
       "      <th>3</th>\n",
       "      <td>3</td>\n",
       "      <td>3</td>\n",
       "      <td>510b25e0281dbc430d00037e_1996.jpg</td>\n",
       "      <td>44617</td>\n",
       "      <td>1.0</td>\n",
       "    </tr>\n",
       "    <tr>\n",
       "      <th>4</th>\n",
       "      <td>4</td>\n",
       "      <td>4</td>\n",
       "      <td>510b25e0281dbc430d00037e_1997.jpg</td>\n",
       "      <td>48041</td>\n",
       "      <td>1.0</td>\n",
       "    </tr>\n",
       "  </tbody>\n",
       "</table>\n",
       "</div>"
      ],
      "text/plain": [
       "   Unnamed: 0  Unnamed: 0.1                           filename   size  \\\n",
       "0           0             0  510b25e0281dbc430d00037e_1993.jpg  62565   \n",
       "1           1             1  510b25e0281dbc430d00037e_1994.jpg  42991   \n",
       "2           2             2  510b25e0281dbc430d00037e_1995.jpg  74946   \n",
       "3           3             3  510b25e0281dbc430d00037e_1996.jpg  44617   \n",
       "4           4             4  510b25e0281dbc430d00037e_1997.jpg  48041   \n",
       "\n",
       "   file_attributes  \n",
       "0              1.0  \n",
       "1              1.0  \n",
       "2              1.0  \n",
       "3              1.0  \n",
       "4              1.0  "
      ]
     },
     "execution_count": 29,
     "metadata": {},
     "output_type": "execute_result"
    }
   ],
   "source": [
    "df_x.head()"
   ]
  },
  {
   "cell_type": "code",
   "execution_count": 38,
   "metadata": {
    "collapsed": true
   },
   "outputs": [],
   "source": [
    "df_x.to_csv('all_tinder_labels',index=False)"
   ]
  },
  {
   "cell_type": "code",
   "execution_count": 20,
   "metadata": {
    "collapsed": false
   },
   "outputs": [
    {
     "data": {
      "text/html": [
       "<div>\n",
       "<style>\n",
       "    .dataframe thead tr:only-child th {\n",
       "        text-align: right;\n",
       "    }\n",
       "\n",
       "    .dataframe thead th {\n",
       "        text-align: left;\n",
       "    }\n",
       "\n",
       "    .dataframe tbody tr th {\n",
       "        vertical-align: top;\n",
       "    }\n",
       "</style>\n",
       "<table border=\"1\" class=\"dataframe\">\n",
       "  <thead>\n",
       "    <tr style=\"text-align: right;\">\n",
       "      <th></th>\n",
       "      <th>Unnamed: 0</th>\n",
       "      <th>filename</th>\n",
       "      <th>size</th>\n",
       "      <th>file_attributes</th>\n",
       "    </tr>\n",
       "  </thead>\n",
       "  <tbody>\n",
       "    <tr>\n",
       "      <th>0</th>\n",
       "      <td>0</td>\n",
       "      <td>510b25e0281dbc430d00037e_1993.jpg</td>\n",
       "      <td>62565</td>\n",
       "      <td>1.0</td>\n",
       "    </tr>\n",
       "    <tr>\n",
       "      <th>1</th>\n",
       "      <td>1</td>\n",
       "      <td>510b25e0281dbc430d00037e_1994.jpg</td>\n",
       "      <td>42991</td>\n",
       "      <td>1.0</td>\n",
       "    </tr>\n",
       "    <tr>\n",
       "      <th>2</th>\n",
       "      <td>2</td>\n",
       "      <td>510b25e0281dbc430d00037e_1995.jpg</td>\n",
       "      <td>74946</td>\n",
       "      <td>1.0</td>\n",
       "    </tr>\n",
       "    <tr>\n",
       "      <th>3</th>\n",
       "      <td>3</td>\n",
       "      <td>510b25e0281dbc430d00037e_1996.jpg</td>\n",
       "      <td>44617</td>\n",
       "      <td>1.0</td>\n",
       "    </tr>\n",
       "    <tr>\n",
       "      <th>4</th>\n",
       "      <td>4</td>\n",
       "      <td>510b25e0281dbc430d00037e_1997.jpg</td>\n",
       "      <td>48041</td>\n",
       "      <td>1.0</td>\n",
       "    </tr>\n",
       "  </tbody>\n",
       "</table>\n",
       "</div>"
      ],
      "text/plain": [
       "   Unnamed: 0                           filename   size  file_attributes\n",
       "0           0  510b25e0281dbc430d00037e_1993.jpg  62565              1.0\n",
       "1           1  510b25e0281dbc430d00037e_1994.jpg  42991              1.0\n",
       "2           2  510b25e0281dbc430d00037e_1995.jpg  74946              1.0\n",
       "3           3  510b25e0281dbc430d00037e_1996.jpg  44617              1.0\n",
       "4           4  510b25e0281dbc430d00037e_1997.jpg  48041              1.0"
      ]
     },
     "execution_count": 20,
     "metadata": {},
     "output_type": "execute_result"
    }
   ],
   "source": [
    "df_x=pd.read_csv('all_tinder_labels')\n",
    "df_x.head()"
   ]
  },
  {
   "cell_type": "code",
   "execution_count": null,
   "metadata": {
    "collapsed": true
   },
   "outputs": [],
   "source": []
  }
 ],
 "metadata": {
  "anaconda-cloud": {},
  "kernelspec": {
   "display_name": "Python [conda env:dsi2]",
   "language": "python",
   "name": "conda-env-dsi2-py"
  },
  "language_info": {
   "codemirror_mode": {
    "name": "ipython",
    "version": 2
   },
   "file_extension": ".py",
   "mimetype": "text/x-python",
   "name": "python",
   "nbconvert_exporter": "python",
   "pygments_lexer": "ipython2",
   "version": "2.7.13"
  }
 },
 "nbformat": 4,
 "nbformat_minor": 1
}
